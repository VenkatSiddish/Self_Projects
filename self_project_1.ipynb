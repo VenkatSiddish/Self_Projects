{
 "cells": [
  {
   "cell_type": "markdown",
   "id": "47bd407d",
   "metadata": {},
   "source": [
    "# Breast Cancer Detection using Machine Learning"
   ]
  },
  {
   "cell_type": "markdown",
   "id": "a214765d",
   "metadata": {},
   "source": [
    "Author: Venkat Siddish Gudla"
   ]
  },
  {
   "cell_type": "markdown",
   "id": "7d663861",
   "metadata": {},
   "source": [
    "Problem Statement: Create a classifier from the dataset of Breast cancer provided by Scikit-Learn and predict using Naive Bayes \n",
    "Algorithm"
   ]
  },
  {
   "cell_type": "code",
   "execution_count": 1,
   "id": "3fb64657",
   "metadata": {},
   "outputs": [],
   "source": [
    "# importing necessary libraries and the dataset from Scikit-Learn\n",
    "\n",
    "from sklearn.datasets import load_breast_cancer\n",
    "from sklearn.model_selection import train_test_split\n",
    "from sklearn.naive_bayes import GaussianNB\n",
    "from sklearn.linear_model import LinearRegression\n",
    "from sklearn.metrics import accuracy_score"
   ]
  },
  {
   "cell_type": "code",
   "execution_count": 2,
   "id": "c182eee8",
   "metadata": {},
   "outputs": [],
   "source": [
    "# loading dataset\n",
    "# creating necessary variables and assigning the attributes of the dataset to them\n",
    "\n",
    "data = load_breast_cancer()\n",
    "label_names = data[\"target_names\"]\n",
    "labels = data[\"target\"]\n",
    "feature_names = data[\"feature_names\"]\n",
    "features = data[\"data\"]"
   ]
  },
  {
   "cell_type": "code",
   "execution_count": 3,
   "id": "0b39df1a",
   "metadata": {
    "scrolled": true
   },
   "outputs": [
    {
     "name": "stdout",
     "output_type": "stream",
     "text": [
      "['malignant' 'benign']\n",
      "Class label : 0\n",
      "['mean radius' 'mean texture' 'mean perimeter' 'mean area'\n",
      " 'mean smoothness' 'mean compactness' 'mean concavity'\n",
      " 'mean concave points' 'mean symmetry' 'mean fractal dimension'\n",
      " 'radius error' 'texture error' 'perimeter error' 'area error'\n",
      " 'smoothness error' 'compactness error' 'concavity error'\n",
      " 'concave points error' 'symmetry error' 'fractal dimension error'\n",
      " 'worst radius' 'worst texture' 'worst perimeter' 'worst area'\n",
      " 'worst smoothness' 'worst compactness' 'worst concavity'\n",
      " 'worst concave points' 'worst symmetry' 'worst fractal dimension']\n",
      "[1.799e+01 1.038e+01 1.228e+02 1.001e+03 1.184e-01 2.776e-01 3.001e-01\n",
      " 1.471e-01 2.419e-01 7.871e-02 1.095e+00 9.053e-01 8.589e+00 1.534e+02\n",
      " 6.399e-03 4.904e-02 5.373e-02 1.587e-02 3.003e-02 6.193e-03 2.538e+01\n",
      " 1.733e+01 1.846e+02 2.019e+03 1.622e-01 6.656e-01 7.119e-01 2.654e-01\n",
      " 4.601e-01 1.189e-01] \n",
      "\n"
     ]
    }
   ],
   "source": [
    "#checking the attributes \n",
    "\n",
    "print(label_names)\n",
    "print(\"Class label :\", labels[0])\n",
    "print(feature_names)\n",
    "print(features[0], \"\\n\")"
   ]
  },
  {
   "cell_type": "markdown",
   "id": "d0d63ce2",
   "metadata": {},
   "source": [
    "# Spliting The Dataset"
   ]
  },
  {
   "cell_type": "markdown",
   "id": "4404cbd0",
   "metadata": {},
   "source": [
    "To evaluate the performance of a classifier, we should always test the model on invisible data.\n",
    "I  divided the data into two parts: an 80% training set and a 20% test set:"
   ]
  },
  {
   "cell_type": "code",
   "execution_count": 4,
   "id": "abef93e4",
   "metadata": {},
   "outputs": [],
   "source": [
    "train, test, train_labels, test_labels = train_test_split(features, labels,\n",
    "                                                          test_size=0.2,\n",
    "                                                          random_state=42)"
   ]
  },
  {
   "cell_type": "markdown",
   "id": "6975ea9e",
   "metadata": {},
   "source": [
    "# Using Naive Bayes for Breast Cancer Detection"
   ]
  },
  {
   "cell_type": "markdown",
   "id": "4849a0ba",
   "metadata": {},
   "source": [
    "I used a simple algorithm that generally works well in binary classification tasks, namely the Naive Bayes classifier:"
   ]
  },
  {
   "cell_type": "code",
   "execution_count": 5,
   "id": "4cd1b6f1",
   "metadata": {
    "scrolled": true
   },
   "outputs": [
    {
     "data": {
      "text/plain": [
       "GaussianNB()"
      ]
     },
     "execution_count": 5,
     "metadata": {},
     "output_type": "execute_result"
    }
   ],
   "source": [
    "nb = GaussianNB()\n",
    "nb.fit(train, train_labels)"
   ]
  },
  {
   "cell_type": "markdown",
   "id": "890df240",
   "metadata": {},
   "source": [
    "After training the model, we can then use the trained model to make predictions on our test set, for which we use the predict() function.\n",
    "\n",
    "The predict() function returns an array of predictions for each data instance in the test set. We can then print out our predictions to get a see for what the model determined:"
   ]
  },
  {
   "cell_type": "code",
   "execution_count": 6,
   "id": "ea530f10",
   "metadata": {
    "scrolled": true
   },
   "outputs": [
    {
     "name": "stdout",
     "output_type": "stream",
     "text": [
      "[1 0 0 1 1 0 0 0 1 1 1 0 1 0 1 0 1 1 1 0 1 1 0 1 1 1 1 1 1 0 1 1 1 1 1 1 0\n",
      " 1 0 1 1 0 1 1 1 1 1 1 1 1 0 0 1 1 1 1 1 0 0 1 1 0 0 1 1 1 0 0 1 1 0 0 1 0\n",
      " 1 1 1 1 1 1 0 1 1 0 0 0 0 0 1 1 1 1 1 1 1 1 0 0 1 0 0 1 0 0 1 1 1 0 1 1 0\n",
      " 1 1 0] \n",
      "\n"
     ]
    }
   ],
   "source": [
    "output = nb.predict(test)\n",
    "print(output, \"\\n\")"
   ]
  },
  {
   "cell_type": "markdown",
   "id": "696f8d99",
   "metadata": {},
   "source": [
    "Using the array of true class labels, we can assess the accuracy of our model’s predictors by comparing the two arrays (test_labels vs output).\n",
    "\n",
    "I used the accuracy_score () function provided by Scikit-Learn to determine the accuracy rate of our machine learning classifier:"
   ]
  },
  {
   "cell_type": "code",
   "execution_count": 7,
   "id": "78c8c2b5",
   "metadata": {},
   "outputs": [
    {
     "name": "stdout",
     "output_type": "stream",
     "text": [
      "0.9736842105263158\n"
     ]
    }
   ],
   "source": [
    "print(accuracy_score(test_labels, output))"
   ]
  },
  {
   "cell_type": "code",
   "execution_count": null,
   "id": "604c9721",
   "metadata": {},
   "outputs": [],
   "source": []
  }
 ],
 "metadata": {
  "kernelspec": {
   "display_name": "Python 3 (ipykernel)",
   "language": "python",
   "name": "python3"
  },
  "language_info": {
   "codemirror_mode": {
    "name": "ipython",
    "version": 3
   },
   "file_extension": ".py",
   "mimetype": "text/x-python",
   "name": "python",
   "nbconvert_exporter": "python",
   "pygments_lexer": "ipython3",
   "version": "3.9.7"
  }
 },
 "nbformat": 4,
 "nbformat_minor": 5
}
